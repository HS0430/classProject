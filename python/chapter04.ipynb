{
 "cells": [
  {
   "cell_type": "code",
   "execution_count": 1,
   "id": "3de79b7f",
   "metadata": {},
   "outputs": [
    {
     "name": "stdout",
     "output_type": "stream",
     "text": [
      "    \n",
      "    홍길동: 1234, Gil-Dong Hong,\n",
      "    이길동: 3915, Gil-Dong Lee,\n",
      "    박길동: 0000, Gil-Dong Park\n",
      "\n"
     ]
    }
   ],
   "source": [
    "b = \"\"\"    \n",
    "    홍길동: 1234, Gil-Dong Hong,\n",
    "    이길동: 3915, Gil-Dong Lee,\n",
    "    박길동: 0000, Gil-Dong Park\n",
    "\"\"\"\n",
    "print(b)"
   ]
  },
  {
   "cell_type": "code",
   "execution_count": 2,
   "id": "e6a2e206",
   "metadata": {},
   "outputs": [
    {
     "name": "stdout",
     "output_type": "stream",
     "text": [
      "홍길동: 1234, Gil-Dong Hong,\n",
      "    이길동: 3915, Gil-Dong Lee,\n",
      "    박길동: 0000, Gil-Dong Park\n"
     ]
    }
   ],
   "source": [
    "# 좌우 공백 제거\n",
    "b = b.strip()\n",
    "print(b)"
   ]
  },
  {
   "cell_type": "code",
   "execution_count": 90,
   "id": "f4f1b37b",
   "metadata": {},
   "outputs": [
    {
     "name": "stdout",
     "output_type": "stream",
     "text": [
      "['홍길동: 1234, Gil-Dong Hong,', '    이길동: 3915, Gil-Dong Lee,', '    박길동: 0000, Gil-Dong Park']\n"
     ]
    }
   ],
   "source": [
    "# 개행을 기준으로 분할\n",
    "list_b = b.split(\"\\n\")\n",
    "print(list_b)"
   ]
  },
  {
   "cell_type": "code",
   "execution_count": 91,
   "id": "6a03aa43",
   "metadata": {},
   "outputs": [
    {
     "name": "stdout",
     "output_type": "stream",
     "text": [
      "    이길동: 3915, Gil-Dong Lee,\n",
      "['    이길동', ' 3915, Gil-Dong Lee,']\n",
      "이길동\n"
     ]
    }
   ],
   "source": [
    "print(list_b[1])\n",
    "result = list_b[1].split(\":\")\n",
    "print(result)\n",
    "print(result[0].strip())"
   ]
  },
  {
   "cell_type": "code",
   "execution_count": 87,
   "id": "d5e3a0af",
   "metadata": {},
   "outputs": [
    {
     "name": "stdout",
     "output_type": "stream",
     "text": [
      "홍길동\n",
      "이길동\n",
      "박길동\n"
     ]
    }
   ],
   "source": [
    "for i in list_b :\n",
    "    i = i.split(\":\")\n",
    "    i = i[0].strip()\n",
    "    print(i)"
   ]
  },
  {
   "cell_type": "code",
   "execution_count": 13,
   "id": "fd850019",
   "metadata": {},
   "outputs": [
    {
     "name": "stdout",
     "output_type": "stream",
     "text": [
      "\n",
      "        <div class=\"select_div\">\n",
      "            <span data-i18n=\"footer.relationSites\">연관사이트</span>\n",
      "            <ul>\n",
      "\n",
      "\n",
      "            </ul>\n",
      "        </div>\n",
      "        <ul class=\"list_sns\">\n",
      "            <li><a href=\"https://www.facebook.com/ekoreatech\" target=\"_blank\"><img src=\"/res/lms/img/common/btn_footer_sns1.png\" alt=\"페이스북\"></a></li>\n",
      "            <li><a href=\"https://blog.naver.com/e-koreatech\" target=\"_blank\"><img src=\"/res/lms/img/common/btn_footer_sns2.png\" alt=\"블로그\"></a></li>\n",
      "            <li><a href=\"https://www.youtube.com/user/koreatecholei\" target=\"_blank\"><img src=\"/res/lms/img/common/btn_footer_sns3.png\" alt=\"유트브\"></a></li>\n",
      "        </ul>\n",
      "\n"
     ]
    }
   ],
   "source": [
    "c = \"\"\"\n",
    "        <div class=\"select_div\">\n",
    "            <span data-i18n=\"footer.relationSites\">연관사이트</span>\n",
    "            <ul>\n",
    "\n",
    "\n",
    "            </ul>\n",
    "        </div>\n",
    "        <ul class=\"list_sns\">\n",
    "            <li><a href=\"https://www.facebook.com/ekoreatech\" target=\"_blank\"><img src=\"/res/lms/img/common/btn_footer_sns1.png\" alt=\"페이스북\"></a></li>\n",
    "            <li><a href=\"https://blog.naver.com/e-koreatech\" target=\"_blank\"><img src=\"/res/lms/img/common/btn_footer_sns2.png\" alt=\"블로그\"></a></li>\n",
    "            <li><a href=\"https://www.youtube.com/user/koreatecholei\" target=\"_blank\"><img src=\"/res/lms/img/common/btn_footer_sns3.png\" alt=\"유트브\"></a></li>\n",
    "        </ul>\n",
    "\"\"\"\n",
    "# print(c)"
   ]
  },
  {
   "cell_type": "code",
   "execution_count": 14,
   "id": "dbf507d0",
   "metadata": {},
   "outputs": [
    {
     "data": {
      "text/plain": [
       "169"
      ]
     },
     "execution_count": 14,
     "metadata": {},
     "output_type": "execute_result"
    }
   ],
   "source": [
    "c.find(\"list_sns\")"
   ]
  },
  {
   "cell_type": "code",
   "execution_count": 15,
   "id": "80fb92a6",
   "metadata": {},
   "outputs": [
    {
     "name": "stdout",
     "output_type": "stream",
     "text": [
      "list_sns\">\n",
      "            <li><a href=\"https://www.facebook.com/ekoreatech\" target=\"_blank\"><img src=\"/res/lms/img/common/btn_footer_sns1.png\" alt=\"페이스북\"></a></li>\n",
      "            <li><a href=\"https://blog.naver.com/e-koreatech\" target=\"_blank\"><img src=\"/res/lms/img/common/btn_footer_sns2.png\" alt=\"블로그\"></a></li>\n",
      "            <li><a href=\"https://www.youtube.com/user/koreatecholei\" target=\"_blank\"><img src=\"/res/lms/img/common/btn_footer_sns3.png\" alt=\"유트브\"></a></li>\n",
      "        </ul>\n",
      "\n"
     ]
    }
   ],
   "source": [
    "temp = c[169:]\n",
    "print(temp)"
   ]
  },
  {
   "cell_type": "code",
   "execution_count": 16,
   "id": "7e281efd",
   "metadata": {},
   "outputs": [
    {
     "name": "stdout",
     "output_type": "stream",
     "text": [
      "['list_sns\">\\n            <li><a href=\"https://www.facebook.com/ekoreatech\" target=\"_blank\"><img src=\"/res/lms/img/common/btn_footer_sns1.png\" alt=\"페이스북\"></a>', '\\n            <li><a href=\"https://blog.naver.com/e-koreatech\" target=\"_blank\"><img src=\"/res/lms/img/common/btn_footer_sns2.png\" alt=\"블로그\"></a>', '\\n            <li><a href=\"https://www.youtube.com/user/koreatecholei\" target=\"_blank\"><img src=\"/res/lms/img/common/btn_footer_sns3.png\" alt=\"유트브\"></a>', '\\n        </ul>\\n']\n"
     ]
    }
   ],
   "source": [
    "temp = temp.split(\"</li>\")\n",
    "print(temp)"
   ]
  },
  {
   "cell_type": "code",
   "execution_count": 17,
   "id": "dd717be8",
   "metadata": {},
   "outputs": [
    {
     "name": "stdout",
     "output_type": "stream",
     "text": [
      "list_sns\">\n",
      "            <li><a href=\"https://www.facebook.com/ekoreatech\" target=\"_blank\"><img src=\"/res/lms/img/common/btn_footer_sns1.png\" alt=\"페이스북\"></a>\n"
     ]
    }
   ],
   "source": [
    "print(temp[0])"
   ]
  },
  {
   "cell_type": "code",
   "execution_count": 31,
   "id": "b5009344",
   "metadata": {},
   "outputs": [
    {
     "name": "stdout",
     "output_type": "stream",
     "text": [
      "list_sns\">\n",
      "            <li><a href=\"https://www.facebook.com/ekoreatech\n"
     ]
    }
   ],
   "source": [
    "url = temp[0].split('\" target')[0]\n",
    "print(url)"
   ]
  },
  {
   "cell_type": "code",
   "execution_count": 32,
   "id": "c238d99c",
   "metadata": {},
   "outputs": [
    {
     "name": "stdout",
     "output_type": "stream",
     "text": [
      "https://www.facebook.com/ekoreatech\n"
     ]
    }
   ],
   "source": [
    "url = url.split('href=\"')[1]\n",
    "print(url)"
   ]
  },
  {
   "cell_type": "code",
   "execution_count": 33,
   "id": "eb833d5e",
   "metadata": {},
   "outputs": [
    {
     "name": "stdout",
     "output_type": "stream",
     "text": [
      "list_sns\">\n",
      "            <li><a href=\"https://www.facebook.com/ekoreatech\" target=\"_blank\"><img src=\"/res/lms/img/common/btn_footer_sns1.png\" alt=\"페이스북\"></a>\n"
     ]
    }
   ],
   "source": [
    "print(temp[0])"
   ]
  },
  {
   "cell_type": "code",
   "execution_count": 45,
   "id": "f8860143",
   "metadata": {},
   "outputs": [
    {
     "name": "stdout",
     "output_type": "stream",
     "text": [
      "페이스북\"></a>\n"
     ]
    }
   ],
   "source": [
    "name = temp[0].split('alt=\"')[1]\n",
    "print(name)"
   ]
  },
  {
   "cell_type": "code",
   "execution_count": 46,
   "id": "927ca7bc",
   "metadata": {},
   "outputs": [
    {
     "name": "stdout",
     "output_type": "stream",
     "text": [
      "페이스북\n"
     ]
    }
   ],
   "source": [
    "name = name[:name.find('\"')]\n",
    "print(name)"
   ]
  },
  {
   "cell_type": "code",
   "execution_count": 51,
   "id": "012b27e9",
   "metadata": {},
   "outputs": [
    {
     "name": "stdout",
     "output_type": "stream",
     "text": [
      "페이스북\n",
      "https://www.facebook.com/ekoreatech\n",
      "블로그\n",
      "https://blog.naver.com/e-koreatech\n",
      "유트브\n",
      "https://www.youtube.com/user/koreatecholei\n"
     ]
    }
   ],
   "source": [
    "for i in range(len(temp)-1) :\n",
    "    name = temp[i].split('alt=\"')[1]\n",
    "    name = name[:name.find('\"')]\n",
    "    print(name)\n",
    "    url = temp[i].split('\" target')[0]\n",
    "    url = url.split('href=\"')[1]\n",
    "    print(url)"
   ]
  },
  {
   "cell_type": "code",
   "execution_count": 57,
   "id": "1314bcaf",
   "metadata": {},
   "outputs": [
    {
     "name": "stdout",
     "output_type": "stream",
     "text": [
      "2345\n"
     ]
    }
   ],
   "source": [
    "import re\n",
    "\n",
    "a= \"a, 2, 3, 4, 5\"\n",
    "pattern = re.compile(\"[^0-9]\")\n",
    "result = re.sub(pattern, \"\", a)\n",
    "print(result)"
   ]
  },
  {
   "cell_type": "code",
   "execution_count": 58,
   "id": "8c3ed7f2",
   "metadata": {},
   "outputs": [
    {
     "name": "stdout",
     "output_type": "stream",
     "text": [
      "홍길동: 1234, Gil-Dong Hong,\n",
      "    이길동: 3915, Gil-Dong Lee,\n",
      "    박길동: 0000, Gil-Dong Park\n"
     ]
    }
   ],
   "source": [
    "print(b)"
   ]
  },
  {
   "cell_type": "code",
   "execution_count": 60,
   "id": "ce56bdba",
   "metadata": {},
   "outputs": [
    {
     "name": "stdout",
     "output_type": "stream",
     "text": [
      "홍길동이길동박길동\n"
     ]
    }
   ],
   "source": [
    "pattern = re.compile(\"[^가-힣]\")\n",
    "result = re.sub(pattern, \"\", b)\n",
    "print(result)"
   ]
  },
  {
   "cell_type": "code",
   "execution_count": 61,
   "id": "45b2211b",
   "metadata": {},
   "outputs": [
    {
     "name": "stdout",
     "output_type": "stream",
     "text": [
      "\n",
      "        <div class=\"select_div\">\n",
      "            <span data-i18n=\"footer.relationSites\">연관사이트</span>\n",
      "            <ul>\n",
      "\n",
      "\n",
      "            </ul>\n",
      "        </div>\n",
      "        <ul class=\"list_sns\">\n",
      "            <li><a href=\"https://www.facebook.com/ekoreatech\" target=\"_blank\"><img src=\"/res/lms/img/common/btn_footer_sns1.png\" alt=\"페이스북\"></a></li>\n",
      "            <li><a href=\"https://blog.naver.com/e-koreatech\" target=\"_blank\"><img src=\"/res/lms/img/common/btn_footer_sns2.png\" alt=\"블로그\"></a></li>\n",
      "            <li><a href=\"https://www.youtube.com/user/koreatecholei\" target=\"_blank\"><img src=\"/res/lms/img/common/btn_footer_sns3.png\" alt=\"유트브\"></a></li>\n",
      "        </ul>\n",
      "\n"
     ]
    }
   ],
   "source": [
    "print(c)"
   ]
  },
  {
   "cell_type": "code",
   "execution_count": 73,
   "id": "6d2d27b4",
   "metadata": {},
   "outputs": [
    {
     "name": "stdout",
     "output_type": "stream",
     "text": [
      "<re.Match object; span=(205, 248), match='https://www.facebook.com/ekoreatech\" target'>\n",
      "https://www.facebook.com/ekoreatech\" target\n"
     ]
    }
   ],
   "source": [
    "pattern = re.compile('https://.*\" target')\n",
    "result = pattern.search(c)\n",
    "print(result)\n",
    "print(result.group())"
   ]
  },
  {
   "cell_type": "code",
   "execution_count": 75,
   "id": "c0154489",
   "metadata": {},
   "outputs": [
    {
     "name": "stdout",
     "output_type": "stream",
     "text": [
      "https://www.facebook.com/ekoreatech\n"
     ]
    }
   ],
   "source": [
    "pattern = re.compile('[a-z:/.]*')\n",
    "result = pattern.search(result.group())\n",
    "print(result.group())"
   ]
  },
  {
   "cell_type": "code",
   "execution_count": 1,
   "id": "6fc5ba1d",
   "metadata": {},
   "outputs": [
    {
     "name": "stdout",
     "output_type": "stream",
     "text": [
      "['movieId', 'title', 'genres']\n",
      "['1', 'Toy Story (1995)', 'Adventure|Animation|Children|Comedy|Fantasy']\n",
      "['2', 'Jumanji (1995)', 'Adventure|Children|Fantasy']\n",
      "['3', 'Grumpier Old Men (1995)', 'Comedy|Romance']\n",
      "['4', 'Waiting to Exhale (1995)', 'Comedy|Drama|Romance']\n"
     ]
    }
   ],
   "source": [
    "import csv\n",
    "\n",
    "f = open(\"ml-latest-small/movies.csv\", \"r\")\n",
    "\n",
    "data = csv.reader(f)\n",
    "print(next(data))\n",
    "print(next(data))\n",
    "print(next(data))\n",
    "print(next(data))\n",
    "print(next(data))\n",
    "\n",
    "f.close()"
   ]
  },
  {
   "cell_type": "code",
   "execution_count": 2,
   "id": "cab7dbf7",
   "metadata": {},
   "outputs": [
    {
     "name": "stdout",
     "output_type": "stream",
     "text": [
      "전체 개수 22084\n"
     ]
    }
   ],
   "source": [
    "f = open(\"ml-latest-small/movies.csv\", \"r\", encoding=\"utf-8\")\n",
    "data = csv.reader(f)\n",
    "next(data)\n",
    "\n",
    "result = []\n",
    "for i in data :\n",
    "    result.extend(i[2].split(\"|\"))\n",
    "    \n",
    "# print(result)\n",
    "print(\"전체 개수\", len(result))"
   ]
  },
  {
   "cell_type": "code",
   "execution_count": 6,
   "id": "838bdf8e",
   "metadata": {},
   "outputs": [
    {
     "name": "stdout",
     "output_type": "stream",
     "text": [
      "{'Comedy', 'IMAX', 'Musical', 'Thriller', '(no genres listed)', 'Film-Noir', 'Drama', 'Animation', 'Horror', 'Adventure', 'Documentary', 'Western', 'Fantasy', 'War', 'Children', 'Sci-Fi', 'Action', 'Crime', 'Mystery', 'Romance'}\n",
      "-------------------------------\n",
      "['Comedy', 'IMAX', 'Musical', 'Thriller', '(no genres listed)', 'Film-Noir', 'Drama', 'Animation', 'Horror', 'Adventure', 'Documentary', 'Western', 'Fantasy', 'War', 'Children', 'Sci-Fi', 'Action', 'Crime', 'Mystery', 'Romance']\n",
      "20\n"
     ]
    }
   ],
   "source": [
    "temp_set = set(result)\n",
    "print(temp_set)\n",
    "\n",
    "print(\"-------------------------------\")\n",
    "# genres = list(set(result))\n",
    "genres = list(temp_set)\n",
    "print(genres)\n",
    "print(len(genres))"
   ]
  },
  {
   "cell_type": "code",
   "execution_count": 9,
   "id": "d02d2a8b",
   "metadata": {},
   "outputs": [
    {
     "name": "stdout",
     "output_type": "stream",
     "text": [
      "{'Adventure': 1263, 'Animation': 611, 'Children': 664, 'Comedy': 3756, 'Fantasy': 779, 'Romance': 1596, 'Drama': 4361, 'Action': 1828, 'Crime': 1199, 'Thriller': 1894, 'Horror': 978, 'Mystery': 573, 'Sci-Fi': 980, 'War': 382, 'Musical': 334, 'Documentary': 440, 'IMAX': 158, 'Western': 167, 'Film-Noir': 87, '(no genres listed)': 34}\n"
     ]
    }
   ],
   "source": [
    "count = {}\n",
    "\n",
    "for i in result :\n",
    "    if count.get(i) :\n",
    "        count[i] += 1\n",
    "    else :\n",
    "        count[i] = 1\n",
    "    \n",
    "print(count)"
   ]
  },
  {
   "cell_type": "code",
   "execution_count": null,
   "id": "7d599a01",
   "metadata": {},
   "outputs": [],
   "source": []
  }
 ],
 "metadata": {
  "kernelspec": {
   "display_name": "Python 3 (ipykernel)",
   "language": "python",
   "name": "python3"
  },
  "language_info": {
   "codemirror_mode": {
    "name": "ipython",
    "version": 3
   },
   "file_extension": ".py",
   "mimetype": "text/x-python",
   "name": "python",
   "nbconvert_exporter": "python",
   "pygments_lexer": "ipython3",
   "version": "3.9.13"
  }
 },
 "nbformat": 4,
 "nbformat_minor": 5
}
